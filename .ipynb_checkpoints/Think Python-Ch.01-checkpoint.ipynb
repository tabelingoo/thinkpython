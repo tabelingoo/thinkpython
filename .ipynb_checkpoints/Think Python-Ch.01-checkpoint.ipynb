{
 "cells": [
  {
   "cell_type": "markdown",
   "metadata": {},
   "source": [
    "# 1.프로그램의 길\n",
    "\n",
    "- 이 책은 목표\n",
    "    - 컴퓨터 과학자처럼 생각하는 법을 가르치는 것\n",
    "\n",
    "- 사고방식\n",
    "    - 수학 + 공학 + 자연과학의 사고하는 방법을 결합하 것\n",
    "\n",
    "\n"
   ]
  },
  {
   "cell_type": "code",
   "execution_count": null,
   "metadata": {
    "collapsed": true
   },
   "outputs": [],
   "source": []
  }
 ],
 "metadata": {
  "kernelspec": {
   "display_name": "Python 3",
   "language": "python",
   "name": "python3"
  },
  "language_info": {
   "codemirror_mode": {
    "name": "ipython",
    "version": 3
   },
   "file_extension": ".py",
   "mimetype": "text/x-python",
   "name": "python",
   "nbconvert_exporter": "python",
   "pygments_lexer": "ipython3",
   "version": "3.6.1"
  }
 },
 "nbformat": 4,
 "nbformat_minor": 2
}
