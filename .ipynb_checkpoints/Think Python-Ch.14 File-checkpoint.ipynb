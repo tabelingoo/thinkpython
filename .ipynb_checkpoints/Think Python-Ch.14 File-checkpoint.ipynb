{
 "cells": [
  {
   "cell_type": "markdown",
   "metadata": {},
   "source": [
    "## 14.1 영속성, persistence\n",
    "\n",
    "### 영속성 이란?\n",
    "\n",
    "데이터를 보관해서 필요할 때 다시 꺼내서 쓸 수 있도록 하는 기술\n",
    "\n",
    "- pickle : 파이썬 객체를 바이너리파일 또는 바이트 스트링으로 저장하고 불러올 수 있는 모듈\n",
    "\n",
    "- database : 주로 문자로 표현할 수 있는 데이터를 저장,  sqlite 를 사용하면 db 를 파일로 다룰 수 있음"
   ]
  },
  {
   "cell_type": "markdown",
   "metadata": {},
   "source": [
    "## 14.2 Reading and writing"
   ]
  },
  {
   "cell_type": "markdown",
   "metadata": {},
   "source": [
    "### 텍스트 파일 읽기\n",
    "\n",
    "- 전체 한 번에 읽기: read()\n",
    "- 한 줄씩 읽기 : readline()\n",
    "- 여러 줄을 한 번에 읽기 : readlines()"
   ]
  },
  {
   "cell_type": "code",
   "execution_count": 2,
   "metadata": {
    "collapsed": true
   },
   "outputs": [],
   "source": [
    "filename = 'think_python.txt'\n",
    "\n",
    "file_in = open(filename, 'r') # r : read,  w : write, a : append, b : birnary, t : text"
   ]
  },
  {
   "cell_type": "markdown",
   "metadata": {},
   "source": [
    "think_python.txt 의 내용은 아래와 같습니다.\n",
    "\n",
    "Hello Python.\n",
    "\n",
    "Suwon Python.\n",
    "\n",
    "수원 파이썬"
   ]
  },
  {
   "cell_type": "code",
   "execution_count": 3,
   "metadata": {},
   "outputs": [
    {
     "data": {
      "text/plain": [
       "'Hello Python.\\nSuwon Python.\\n수원 파이썬'"
      ]
     },
     "execution_count": 3,
     "metadata": {},
     "output_type": "execute_result"
    }
   ],
   "source": [
    "file_in.read()"
   ]
  },
  {
   "cell_type": "markdown",
   "metadata": {},
   "source": [
    "두 번 read() 를 호출했을 때는 아무것도 읽지 못합니다.   처음 read() 를 호출했을 때 파일에 있는 모든 문자열을 읽어서 소비했기 때문에 더이상 읽을 수 있는 문자열이 없기 때문입니다."
   ]
  },
  {
   "cell_type": "code",
   "execution_count": 48,
   "metadata": {},
   "outputs": [
    {
     "data": {
      "text/plain": [
       "''"
      ]
     },
     "execution_count": 48,
     "metadata": {},
     "output_type": "execute_result"
    }
   ],
   "source": [
    "file_in.read()"
   ]
  },
  {
   "cell_type": "markdown",
   "metadata": {},
   "source": [
    "이번에는 readlines() 메쏘드를 사용해서 한 줄씩 읽어보겠습니다."
   ]
  },
  {
   "cell_type": "code",
   "execution_count": 49,
   "metadata": {},
   "outputs": [
    {
     "data": {
      "text/plain": [
       "'Hello Python.\\n'"
      ]
     },
     "execution_count": 49,
     "metadata": {},
     "output_type": "execute_result"
    }
   ],
   "source": [
    "filename = 'think_python.txt'\n",
    "\n",
    "file_in = open(filename, 'r')\n",
    "file_in.readline()"
   ]
  },
  {
   "cell_type": "code",
   "execution_count": 50,
   "metadata": {},
   "outputs": [
    {
     "data": {
      "text/plain": [
       "'Suwon Python.\\n'"
      ]
     },
     "execution_count": 50,
     "metadata": {},
     "output_type": "execute_result"
    }
   ],
   "source": [
    "file_in.readline()"
   ]
  },
  {
   "cell_type": "code",
   "execution_count": 51,
   "metadata": {},
   "outputs": [
    {
     "data": {
      "text/plain": [
       "'수원 파이썬'"
      ]
     },
     "execution_count": 51,
     "metadata": {},
     "output_type": "execute_result"
    }
   ],
   "source": [
    "file_in.readline()"
   ]
  },
  {
   "cell_type": "code",
   "execution_count": 52,
   "metadata": {},
   "outputs": [
    {
     "data": {
      "text/plain": [
       "''"
      ]
     },
     "execution_count": 52,
     "metadata": {},
     "output_type": "execute_result"
    }
   ],
   "source": [
    "file_in.readline()"
   ]
  },
  {
   "cell_type": "markdown",
   "metadata": {},
   "source": [
    "파일 인스턴스의 사용을 마치면 close() 메쏘드를 호출해서 자원을 닫아줘야 합니다."
   ]
  },
  {
   "cell_type": "code",
   "execution_count": 53,
   "metadata": {
    "collapsed": true
   },
   "outputs": [],
   "source": [
    "file_in.close()"
   ]
  },
  {
   "cell_type": "markdown",
   "metadata": {},
   "source": [
    "### file 인스턴수는 사용 후에 닫아줘야 한다."
   ]
  },
  {
   "cell_type": "code",
   "execution_count": 54,
   "metadata": {
    "collapsed": true
   },
   "outputs": [],
   "source": [
    "file_in.close()"
   ]
  },
  {
   "cell_type": "code",
   "execution_count": 55,
   "metadata": {},
   "outputs": [
    {
     "ename": "ValueError",
     "evalue": "I/O operation on closed file.",
     "output_type": "error",
     "traceback": [
      "\u001b[1;31m---------------------------------------------------------------------------\u001b[0m",
      "\u001b[1;31mValueError\u001b[0m                                Traceback (most recent call last)",
      "\u001b[1;32m<ipython-input-55-2598856fdbbe>\u001b[0m in \u001b[0;36m<module>\u001b[1;34m()\u001b[0m\n\u001b[1;32m----> 1\u001b[1;33m \u001b[0mfile_in\u001b[0m\u001b[1;33m.\u001b[0m\u001b[0mread\u001b[0m\u001b[1;33m(\u001b[0m\u001b[1;33m)\u001b[0m\u001b[1;33m\u001b[0m\u001b[0m\n\u001b[0m",
      "\u001b[1;31mValueError\u001b[0m: I/O operation on closed file."
     ]
    }
   ],
   "source": [
    "file_in.read()"
   ]
  },
  {
   "cell_type": "code",
   "execution_count": 57,
   "metadata": {},
   "outputs": [
    {
     "name": "stdout",
     "output_type": "stream",
     "text": [
      "<class 'list'>\n",
      "1 : Hello Python.\n",
      "2 : Suwon Python.\n",
      "3 : 수원 파이썬"
     ]
    }
   ],
   "source": [
    "with open(filename, 'rt', errors='ignore') as f:\n",
    "    lines = f.readlines()\n",
    "    print(type(lines))\n",
    "    for idx, line in enumerate(lines,1):\n",
    "        print('{0} : {1}'.format(idx, line), end='')\n",
    "        \n",
    "    "
   ]
  },
  {
   "cell_type": "markdown",
   "metadata": {},
   "source": [
    "### 파일 쓰기\n",
    "\n",
    "- 텍스트 쓰기: write(string)\n",
    "- 텍스트 여러줄 쓰기: writelines([string])\n"
   ]
  },
  {
   "cell_type": "code",
   "execution_count": 73,
   "metadata": {
    "collapsed": true
   },
   "outputs": [],
   "source": [
    "filename = 'my_memo.txt'\n",
    "file_out = open(filename, 'w')"
   ]
  },
  {
   "cell_type": "code",
   "execution_count": 74,
   "metadata": {
    "collapsed": true
   },
   "outputs": [],
   "source": [
    "file_out.write('my memo')\n",
    "file_out.write('내 메모장')\n",
    "file_out.writelines(['a\\n', 'dbc\\n'])"
   ]
  },
  {
   "cell_type": "code",
   "execution_count": 75,
   "metadata": {
    "collapsed": true
   },
   "outputs": [],
   "source": [
    "file_out.close()"
   ]
  },
  {
   "cell_type": "markdown",
   "metadata": {},
   "source": [
    "### 컨텍스트 메니저"
   ]
  },
  {
   "cell_type": "code",
   "execution_count": 76,
   "metadata": {
    "collapsed": true
   },
   "outputs": [],
   "source": [
    "with open(filename, 'a') as f:\n",
    "    f.write('buy milk on the way home')"
   ]
  },
  {
   "cell_type": "code",
   "execution_count": 77,
   "metadata": {},
   "outputs": [
    {
     "name": "stdout",
     "output_type": "stream",
     "text": [
      "my memo내 메모장a\n",
      "dbc\n",
      "buy milk on the way home\n"
     ]
    }
   ],
   "source": [
    "with open(filename, 'r') as f:\n",
    "    content = f.read()\n",
    "    print(content)"
   ]
  },
  {
   "cell_type": "markdown",
   "metadata": {},
   "source": [
    "## 14.3 Format operator 포맷 연산자"
   ]
  },
  {
   "cell_type": "code",
   "execution_count": 79,
   "metadata": {},
   "outputs": [
    {
     "data": {
      "text/plain": [
       "'student name is HG and student id is 123'"
      ]
     },
     "execution_count": 79,
     "metadata": {},
     "output_type": "execute_result"
    }
   ],
   "source": [
    "student_name = 'HG'\n",
    "student_id = 123\n",
    "\n",
    "'student name is %s and student id is %d' % (student_name, student_id)"
   ]
  },
  {
   "cell_type": "code",
   "execution_count": 82,
   "metadata": {},
   "outputs": [
    {
     "data": {
      "text/plain": [
       "'student name is HG and student id is 123'"
      ]
     },
     "execution_count": 82,
     "metadata": {},
     "output_type": "execute_result"
    }
   ],
   "source": [
    "'student name is {} and student id is {}'.format(student_name, student_id)"
   ]
  },
  {
   "cell_type": "markdown",
   "metadata": {},
   "source": [
    "format 메쏘드로 할 수 있는 것"
   ]
  },
  {
   "cell_type": "code",
   "execution_count": 92,
   "metadata": {},
   "outputs": [
    {
     "data": {
      "text/plain": [
       "'pi is 3.142'"
      ]
     },
     "execution_count": 92,
     "metadata": {},
     "output_type": "execute_result"
    }
   ],
   "source": [
    "pi = 3.141592\n",
    "\n",
    "'pi is {0:.3f}'.format(pi)"
   ]
  },
  {
   "cell_type": "code",
   "execution_count": 97,
   "metadata": {},
   "outputs": [
    {
     "data": {
      "text/plain": [
       "'6 digit format for my number is 000012'"
      ]
     },
     "execution_count": 97,
     "metadata": {},
     "output_type": "execute_result"
    }
   ],
   "source": [
    "num = 12\n",
    "\n",
    "\n",
    "'6 digit format for my number is {:0>6}'.format(num)"
   ]
  },
  {
   "cell_type": "code",
   "execution_count": 99,
   "metadata": {},
   "outputs": [
    {
     "data": {
      "text/plain": [
       "5"
      ]
     },
     "execution_count": 99,
     "metadata": {},
     "output_type": "execute_result"
    }
   ],
   "source": [
    "round(10/2)"
   ]
  },
  {
   "cell_type": "code",
   "execution_count": 100,
   "metadata": {},
   "outputs": [
    {
     "data": {
      "text/plain": [
       "6"
      ]
     },
     "execution_count": 100,
     "metadata": {},
     "output_type": "execute_result"
    }
   ],
   "source": [
    "round(11/2)"
   ]
  },
  {
   "cell_type": "code",
   "execution_count": 101,
   "metadata": {},
   "outputs": [
    {
     "data": {
      "text/plain": [
       "6"
      ]
     },
     "execution_count": 101,
     "metadata": {},
     "output_type": "execute_result"
    }
   ],
   "source": [
    "round(13/2)"
   ]
  },
  {
   "cell_type": "markdown",
   "metadata": {},
   "source": [
    "#### 더 자세한 format 사용법\n",
    "\n",
    "https://docs.python.org/3/library/stdtypes.html#printf-style-string-formatting\n",
    "\n",
    "https://pyformat.info/\n",
    "\n"
   ]
  },
  {
   "cell_type": "markdown",
   "metadata": {},
   "source": [
    "## 14.4 파일명과 경로"
   ]
  },
  {
   "cell_type": "code",
   "execution_count": 102,
   "metadata": {
    "collapsed": true
   },
   "outputs": [],
   "source": [
    "import os"
   ]
  },
  {
   "cell_type": "markdown",
   "metadata": {},
   "source": [
    "#### 현재 경로 파악"
   ]
  },
  {
   "cell_type": "code",
   "execution_count": 103,
   "metadata": {},
   "outputs": [
    {
     "name": "stdout",
     "output_type": "stream",
     "text": [
      "D:\\Dev\\Github-tabe\\thinkpython\n"
     ]
    }
   ],
   "source": [
    "cwd = os.getcwd()\n",
    "print(cwd)"
   ]
  },
  {
   "cell_type": "markdown",
   "metadata": {},
   "source": [
    "#### 파일의 절대 경로"
   ]
  },
  {
   "cell_type": "code",
   "execution_count": 104,
   "metadata": {},
   "outputs": [
    {
     "data": {
      "text/plain": [
       "'D:\\\\Dev\\\\Github-tabe\\\\thinkpython\\\\my_memo.txt'"
      ]
     },
     "execution_count": 104,
     "metadata": {},
     "output_type": "execute_result"
    }
   ],
   "source": [
    "os.path.abspath('my_memo.txt')"
   ]
  },
  {
   "cell_type": "markdown",
   "metadata": {},
   "source": [
    "#### 파일이나 디렉토리가 있는지 확인\n"
   ]
  },
  {
   "cell_type": "code",
   "execution_count": 74,
   "metadata": {},
   "outputs": [
    {
     "data": {
      "text/plain": [
       "True"
      ]
     },
     "execution_count": 74,
     "metadata": {},
     "output_type": "execute_result"
    }
   ],
   "source": [
    "os.path.exists('my_memo.txt')"
   ]
  },
  {
   "cell_type": "markdown",
   "metadata": {},
   "source": [
    "#### 어떤 경로가 디렉토리인지 확인"
   ]
  },
  {
   "cell_type": "code",
   "execution_count": 75,
   "metadata": {},
   "outputs": [
    {
     "data": {
      "text/plain": [
       "False"
      ]
     },
     "execution_count": 75,
     "metadata": {},
     "output_type": "execute_result"
    }
   ],
   "source": [
    "os.path.isdir('my_memo.txt')"
   ]
  },
  {
   "cell_type": "markdown",
   "metadata": {},
   "source": [
    "#### 해당 디렉토리의 하위 목록(파일+디렉토리) 확인"
   ]
  },
  {
   "cell_type": "code",
   "execution_count": 76,
   "metadata": {
    "scrolled": true
   },
   "outputs": [
    {
     "data": {
      "text/plain": [
       "['.git',\n",
       " '.ipynb_checkpoints',\n",
       " '.vscode',\n",
       " 'Appendix.Virtual Environment.ipynb',\n",
       " 'ch04',\n",
       " 'ch05',\n",
       " 'ch12',\n",
       " 'img',\n",
       " 'my_memo.txt',\n",
       " 'README.md',\n",
       " 'Something you can do with Python.ipynb',\n",
       " 'Think Python-Ch.01 실험실.ipynb',\n",
       " 'Think Python-Ch.01.ipynb',\n",
       " 'Think Python-Ch.02 변수, 표현, 구문.ipynb',\n",
       " 'Think Python-Ch.03 Functions.ipynb',\n",
       " 'Think Python-Ch.04 Case study interface design.ipynb',\n",
       " 'Think Python-Ch.05 Conditionals and recursion.ipynb',\n",
       " 'Think Python-Ch.06 Fruitful functions.ipynb',\n",
       " 'Think Python-Ch.07 Iteration.ipynb',\n",
       " 'Think Python-Ch.08 Strings.ipynb',\n",
       " 'Think Python-Ch.10 Lists.ipynb',\n",
       " 'Think Python-Ch.11 Dictionary.ipynb',\n",
       " 'Think Python-Ch.12 Tuple.ipynb',\n",
       " 'Think Python-Ch.14 File.ipynb',\n",
       " 'think_python.txt',\n",
       " 'Untitled.ipynb',\n",
       " 'Untitled1.ipynb',\n",
       " 'Variable_scope_test.ipynb']"
      ]
     },
     "execution_count": 76,
     "metadata": {},
     "output_type": "execute_result"
    }
   ],
   "source": [
    "os.listdir(os.getcwd())"
   ]
  },
  {
   "cell_type": "code",
   "execution_count": 106,
   "metadata": {},
   "outputs": [
    {
     "data": {
      "text/plain": [
       "[]"
      ]
     },
     "execution_count": 106,
     "metadata": {},
     "output_type": "execute_result"
    }
   ],
   "source": [
    "os.listdir('empty_dir/')"
   ]
  },
  {
   "cell_type": "markdown",
   "metadata": {},
   "source": [
    "#### 해당 디렉토리에 모든 하위의 파일, 디렉토리 정보를 더 상세히 보기"
   ]
  },
  {
   "cell_type": "code",
   "execution_count": 109,
   "metadata": {
    "scrolled": true
   },
   "outputs": [
    {
     "name": "stdout",
     "output_type": "stream",
     "text": [
      "A/ ['B'] ['memo_in_A.txt']\n",
      "A/B [] ['memo_in_B.txt']\n"
     ]
    }
   ],
   "source": [
    "from os import walk\n",
    "for root, p, d in walk('A/'):\n",
    "    print(root, p, d)"
   ]
  },
  {
   "cell_type": "code",
   "execution_count": 108,
   "metadata": {},
   "outputs": [
    {
     "name": "stdout",
     "output_type": "stream",
     "text": [
      "Help on function walk in module os:\n",
      "\n",
      "walk(top, topdown=True, onerror=None, followlinks=False)\n",
      "    Directory tree generator.\n",
      "    \n",
      "    For each directory in the directory tree rooted at top (including top\n",
      "    itself, but excluding '.' and '..'), yields a 3-tuple\n",
      "    \n",
      "        dirpath, dirnames, filenames\n",
      "    \n",
      "    dirpath is a string, the path to the directory.  dirnames is a list of\n",
      "    the names of the subdirectories in dirpath (excluding '.' and '..').\n",
      "    filenames is a list of the names of the non-directory files in dirpath.\n",
      "    Note that the names in the lists are just names, with no path components.\n",
      "    To get a full path (which begins with top) to a file or directory in\n",
      "    dirpath, do os.path.join(dirpath, name).\n",
      "    \n",
      "    If optional arg 'topdown' is true or not specified, the triple for a\n",
      "    directory is generated before the triples for any of its subdirectories\n",
      "    (directories are generated top down).  If topdown is false, the triple\n",
      "    for a directory is generated after the triples for all of its\n",
      "    subdirectories (directories are generated bottom up).\n",
      "    \n",
      "    When topdown is true, the caller can modify the dirnames list in-place\n",
      "    (e.g., via del or slice assignment), and walk will only recurse into the\n",
      "    subdirectories whose names remain in dirnames; this can be used to prune the\n",
      "    search, or to impose a specific order of visiting.  Modifying dirnames when\n",
      "    topdown is false is ineffective, since the directories in dirnames have\n",
      "    already been generated by the time dirnames itself is generated. No matter\n",
      "    the value of topdown, the list of subdirectories is retrieved before the\n",
      "    tuples for the directory and its subdirectories are generated.\n",
      "    \n",
      "    By default errors from the os.scandir() call are ignored.  If\n",
      "    optional arg 'onerror' is specified, it should be a function; it\n",
      "    will be called with one argument, an OSError instance.  It can\n",
      "    report the error to continue with the walk, or raise the exception\n",
      "    to abort the walk.  Note that the filename is available as the\n",
      "    filename attribute of the exception object.\n",
      "    \n",
      "    By default, os.walk does not follow symbolic links to subdirectories on\n",
      "    systems that support them.  In order to get this functionality, set the\n",
      "    optional argument 'followlinks' to true.\n",
      "    \n",
      "    Caution:  if you pass a relative pathname for top, don't change the\n",
      "    current working directory between resumptions of walk.  walk never\n",
      "    changes the current directory, and assumes that the client doesn't\n",
      "    either.\n",
      "    \n",
      "    Example:\n",
      "    \n",
      "    import os\n",
      "    from os.path import join, getsize\n",
      "    for root, dirs, files in os.walk('python/Lib/email'):\n",
      "        print(root, \"consumes\", end=\"\")\n",
      "        print(sum([getsize(join(root, name)) for name in files]), end=\"\")\n",
      "        print(\"bytes in\", len(files), \"non-directory files\")\n",
      "        if 'CVS' in dirs:\n",
      "            dirs.remove('CVS')  # don't visit CVS directories\n",
      "\n"
     ]
    }
   ],
   "source": [
    "help(os.walk)"
   ]
  },
  {
   "cell_type": "markdown",
   "metadata": {},
   "source": [
    "## 14.5 예외 잡기"
   ]
  },
  {
   "cell_type": "markdown",
   "metadata": {},
   "source": [
    "파일을 읽거나 쓸때 존재하지 않는 파일을 열려고 하면 IOError 가 발생하고 파일에 접근 권한이 없다면 PermissionError 가 발생한다.\n",
    "\n",
    "디렉토리를 열려고하면 IsADirectoryError 가 발ㄹ생한다.\n",
    "\n",
    "에러가 발생했을 때 프로그램이 강제 종료되는 것이아니라 예외를 적절하게 다룰 수 있도록 스크립트를 추가해주는 것이 좋다.\n",
    "\n",
    "이 과정을 예외를 잡는다라고 부른다.\n"
   ]
  },
  {
   "cell_type": "code",
   "execution_count": 114,
   "metadata": {},
   "outputs": [
    {
     "name": "stdout",
     "output_type": "stream",
     "text": [
      "can't open this file\n",
      "[Errno 2] No such file or directory: 'bad_file'\n",
      "finally\n",
      "I am good.\n"
     ]
    }
   ],
   "source": [
    "try:\n",
    "    f = open('bad_file', 'r')\n",
    "except IOError as e:\n",
    "    print(\"can't open this file\")\n",
    "    print(e)\n",
    "except Exception as e1:\n",
    "    print(e1)\n",
    "finally:\n",
    "    print('finally')\n",
    "\n",
    "print('I am good.')"
   ]
  },
  {
   "cell_type": "markdown",
   "metadata": {
    "collapsed": true
   },
   "source": [
    "우와 같이 존재하지 않은 파일을 읽을 려고해서 오류가 발생했고 오류에 대한 처리대로 스크립트가 수행되었다.\n",
    "\n"
   ]
  },
  {
   "cell_type": "markdown",
   "metadata": {},
   "source": [
    "오류/예외 처리에 대한 더 자세한 내용은 공식 문서를 참조하자.\n",
    "\n",
    "https://docs.python.org/3/tutorial/errors.html"
   ]
  },
  {
   "cell_type": "markdown",
   "metadata": {},
   "source": [
    "## 14.6 데이터베이스"
   ]
  },
  {
   "cell_type": "code",
   "execution_count": 115,
   "metadata": {
    "collapsed": true
   },
   "outputs": [],
   "source": [
    "import sqlite3"
   ]
  },
  {
   "cell_type": "code",
   "execution_count": 119,
   "metadata": {},
   "outputs": [
    {
     "name": "stdout",
     "output_type": "stream",
     "text": [
      "Collecting sqlite3\n"
     ]
    },
    {
     "name": "stderr",
     "output_type": "stream",
     "text": [
      "  Could not find a version that satisfies the requirement sqlite3 (from versions: )\n",
      "No matching distribution found for sqlite3\n"
     ]
    }
   ],
   "source": [
    "! pip install sqlite3"
   ]
  },
  {
   "cell_type": "code",
   "execution_count": 16,
   "metadata": {
    "collapsed": true
   },
   "outputs": [],
   "source": [
    "con = sqlite3.connect('test.db')"
   ]
  },
  {
   "cell_type": "code",
   "execution_count": 120,
   "metadata": {},
   "outputs": [
    {
     "data": {
      "text/plain": [
       "<sqlite3.Cursor at 0x5115e30>"
      ]
     },
     "execution_count": 120,
     "metadata": {},
     "output_type": "execute_result"
    }
   ],
   "source": [
    "cur = con.cursor()\n",
    "cur.execute(\"CREATE TABLE IF NOT EXISTS PhoneBook(Name text, Phone Integer);\")"
   ]
  },
  {
   "cell_type": "code",
   "execution_count": 121,
   "metadata": {},
   "outputs": [
    {
     "data": {
      "text/plain": [
       "<sqlite3.Cursor at 0x5115e30>"
      ]
     },
     "execution_count": 121,
     "metadata": {},
     "output_type": "execute_result"
    }
   ],
   "source": [
    "cur.execute('INSERT INTO PhoneBook VALUES(?, ?);', ('Derik', 1111))"
   ]
  },
  {
   "cell_type": "code",
   "execution_count": 122,
   "metadata": {},
   "outputs": [
    {
     "name": "stdout",
     "output_type": "stream",
     "text": [
      "[('Derik', 1111), ('Derik', 1111), ('Derik', 1111), ('Derik', 1111)]\n"
     ]
    }
   ],
   "source": [
    "sql = \"SELECT * FROM PhoneBook;\"\n",
    "\n",
    "cur.execute(sql)\n",
    "print(cur.fetchall())"
   ]
  },
  {
   "cell_type": "markdown",
   "metadata": {},
   "source": [
    "## 14.7 pickle"
   ]
  },
  {
   "cell_type": "markdown",
   "metadata": {},
   "source": [
    "- dumps(obj) 객체를 인수로 받아서 문자열 표현을 반환한다."
   ]
  },
  {
   "cell_type": "code",
   "execution_count": 126,
   "metadata": {
    "collapsed": true
   },
   "outputs": [],
   "source": [
    "import pickle"
   ]
  },
  {
   "cell_type": "code",
   "execution_count": 127,
   "metadata": {},
   "outputs": [
    {
     "data": {
      "text/plain": [
       "b'\\x80\\x03]q\\x00(K\\x01K\\x02X\\x01\\x00\\x00\\x00Aq\\x01X\\x01\\x00\\x00\\x00Bq\\x02e.'"
      ]
     },
     "execution_count": 127,
     "metadata": {},
     "output_type": "execute_result"
    }
   ],
   "source": [
    "t = [1,2,'A','B']\n",
    "pickle.dumps(t)"
   ]
  },
  {
   "cell_type": "code",
   "execution_count": 129,
   "metadata": {},
   "outputs": [
    {
     "data": {
      "text/plain": [
       "[1, 2, 'A', 'B']"
      ]
     },
     "execution_count": 129,
     "metadata": {},
     "output_type": "execute_result"
    }
   ],
   "source": [
    "copy_b = b'\\x80\\x03]q\\x00(K\\x01K\\x02X\\x01\\x00\\x00\\x00Aq\\x01X\\x01\\x00\\x00\\x00Bq\\x02e.'\n",
    "copy_t = pickle.loads(copy_b)\n",
    "copy_t"
   ]
  },
  {
   "cell_type": "code",
   "execution_count": 137,
   "metadata": {},
   "outputs": [
    {
     "name": "stdout",
     "output_type": "stream",
     "text": [
      "b'\\x80\\x03X\\x03\\x00\\x00\\x00ABCq\\x00.'\n"
     ]
    }
   ],
   "source": [
    "a = 'ABC'\n",
    "save_a = pickle.dumps(a)\n",
    "print(save_a)"
   ]
  },
  {
   "cell_type": "code",
   "execution_count": 30,
   "metadata": {},
   "outputs": [
    {
     "name": "stdout",
     "output_type": "stream",
     "text": [
      "a\n"
     ]
    }
   ],
   "source": [
    "b = pickle.loads(save_a)\n",
    "print(b)"
   ]
  },
  {
   "cell_type": "code",
   "execution_count": 138,
   "metadata": {
    "collapsed": true
   },
   "outputs": [],
   "source": [
    "my_dict = {'Name':'Suwon Python', 'Location':'COSPOT'}\n"
   ]
  },
  {
   "cell_type": "code",
   "execution_count": 140,
   "metadata": {
    "collapsed": true
   },
   "outputs": [],
   "source": [
    "with open('suwon_python.pkl', 'wb') as f:\n",
    "    pickle.dump(my_dict, f)\n",
    "with open('suwon_python.pkl', 'rb') as f:\n",
    "    my_dict_loaded = pickle.load(f)"
   ]
  },
  {
   "cell_type": "code",
   "execution_count": 141,
   "metadata": {},
   "outputs": [
    {
     "data": {
      "text/plain": [
       "{'Location': 'COSPOT', 'Name': 'Suwon Python'}"
      ]
     },
     "execution_count": 141,
     "metadata": {},
     "output_type": "execute_result"
    }
   ],
   "source": [
    "my_dict_loaded"
   ]
  },
  {
   "cell_type": "code",
   "execution_count": 142,
   "metadata": {},
   "outputs": [
    {
     "data": {
      "text/plain": [
       "True"
      ]
     },
     "execution_count": 142,
     "metadata": {},
     "output_type": "execute_result"
    }
   ],
   "source": [
    "my_dict_loaded == my_dict"
   ]
  },
  {
   "cell_type": "code",
   "execution_count": 143,
   "metadata": {},
   "outputs": [
    {
     "data": {
      "text/plain": [
       "False"
      ]
     },
     "execution_count": 143,
     "metadata": {},
     "output_type": "execute_result"
    }
   ],
   "source": [
    "my_dict_loaded is my_dict"
   ]
  },
  {
   "cell_type": "markdown",
   "metadata": {},
   "source": [
    "## 14.8 Pipe\n",
    "\n",
    "쉘에서 실행할 수 있는 프로그램은 파이썬에서 파이프 객체를 사용해서 실행할 수 있다."
   ]
  },
  {
   "cell_type": "code",
   "execution_count": 41,
   "metadata": {
    "collapsed": true
   },
   "outputs": [],
   "source": [
    "import os\n",
    "cmd = 'ls -al'\n",
    "fp = os.popen(cmd)"
   ]
  },
  {
   "cell_type": "code",
   "execution_count": 42,
   "metadata": {},
   "outputs": [
    {
     "data": {
      "text/plain": [
       "os._wrap_close"
      ]
     },
     "execution_count": 42,
     "metadata": {},
     "output_type": "execute_result"
    }
   ],
   "source": [
    "type(fp)"
   ]
  },
  {
   "cell_type": "code",
   "execution_count": 43,
   "metadata": {},
   "outputs": [
    {
     "data": {
      "text/plain": [
       "<os._wrap_close at 0x50cb978>"
      ]
     },
     "execution_count": 43,
     "metadata": {},
     "output_type": "execute_result"
    }
   ],
   "source": [
    "fp"
   ]
  },
  {
   "cell_type": "code",
   "execution_count": 45,
   "metadata": {},
   "outputs": [
    {
     "name": "stdout",
     "output_type": "stream",
     "text": [
      "\n",
      "1\n"
     ]
    }
   ],
   "source": [
    "filename = 'book.tex'\n",
    "cmd = 'md5sum ' + filename\n",
    "fp = os.popen(cmd)\n",
    "res = fp.read()\n",
    "start = fp.close()\n",
    "print(res)\n",
    "print(start)"
   ]
  },
  {
   "cell_type": "markdown",
   "metadata": {},
   "source": [
    "https://pymotw.com/2/pipes/"
   ]
  }
 ],
 "metadata": {
  "kernelspec": {
   "display_name": "Python 3",
   "language": "python",
   "name": "python3"
  },
  "language_info": {
   "codemirror_mode": {
    "name": "ipython",
    "version": 3
   },
   "file_extension": ".py",
   "mimetype": "text/x-python",
   "name": "python",
   "nbconvert_exporter": "python",
   "pygments_lexer": "ipython3",
   "version": "3.6.1"
  }
 },
 "nbformat": 4,
 "nbformat_minor": 2
}
