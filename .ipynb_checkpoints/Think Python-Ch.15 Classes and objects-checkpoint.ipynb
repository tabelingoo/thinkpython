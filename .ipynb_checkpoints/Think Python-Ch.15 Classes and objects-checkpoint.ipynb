{
 "cells": [
  {
   "cell_type": "markdown",
   "metadata": {},
   "source": [
    "## 15.1 프로그래머 정의 타입 = 클래스"
   ]
  },
  {
   "cell_type": "markdown",
   "metadata": {},
   "source": [
    "2 차원 공간의 점을 나타내는 클래스를 만들고 싶다면.\n",
    "\n",
    "- 예약어 class 사용\n",
    "- 클래스 이름은 대문자로 시작\n",
    "- 클래스 정의의 첫 부분은 docstring 작성\n",
    "- 클래스 내용을 아직 정의하지 않을 때는 pass 사용"
   ]
  },
  {
   "cell_type": "code",
   "execution_count": 22,
   "metadata": {
    "collapsed": true
   },
   "outputs": [],
   "source": [
    "class Point:\n",
    "    \"\"\" 2차원 공간의 점을 표현한다.\n",
    "    Atribute\n",
    "    --------\n",
    "    x :  int,  나는 x\n",
    "    \"\"\"\n",
    "    pass"
   ]
  },
  {
   "cell_type": "code",
   "execution_count": 23,
   "metadata": {},
   "outputs": [
    {
     "name": "stdout",
     "output_type": "stream",
     "text": [
      "Help on class Point in module __main__:\n",
      "\n",
      "class Point(builtins.object)\n",
      " |  2차원 공간의 점을 표현한다.\n",
      " |  Atribute\n",
      " |  --------\n",
      " |  x :  int,  나는 x\n",
      " |  \n",
      " |  Data descriptors defined here:\n",
      " |  \n",
      " |  __dict__\n",
      " |      dictionary for instance variables (if defined)\n",
      " |  \n",
      " |  __weakref__\n",
      " |      list of weak references to the object (if defined)\n",
      "\n"
     ]
    }
   ],
   "source": [
    "help(Point)"
   ]
  },
  {
   "cell_type": "code",
   "execution_count": 3,
   "metadata": {},
   "outputs": [
    {
     "data": {
      "text/plain": [
       "__main__.Point"
      ]
     },
     "execution_count": 3,
     "metadata": {},
     "output_type": "execute_result"
    }
   ],
   "source": [
    "Point"
   ]
  },
  {
   "cell_type": "code",
   "execution_count": 4,
   "metadata": {},
   "outputs": [
    {
     "data": {
      "text/plain": [
       "type"
      ]
     },
     "execution_count": 4,
     "metadata": {},
     "output_type": "execute_result"
    }
   ],
   "source": [
    "type(Point)"
   ]
  },
  {
   "cell_type": "code",
   "execution_count": 5,
   "metadata": {
    "collapsed": true
   },
   "outputs": [],
   "source": [
    "p = Point()"
   ]
  },
  {
   "cell_type": "code",
   "execution_count": 7,
   "metadata": {},
   "outputs": [
    {
     "data": {
      "text/plain": [
       "<__main__.Point at 0x4e915c0>"
      ]
     },
     "execution_count": 7,
     "metadata": {},
     "output_type": "execute_result"
    }
   ],
   "source": [
    "p"
   ]
  },
  {
   "cell_type": "markdown",
   "metadata": {},
   "source": [
    "#### 인스턴스화"
   ]
  },
  {
   "cell_type": "code",
   "execution_count": 10,
   "metadata": {},
   "outputs": [
    {
     "data": {
      "text/plain": [
       "mappingproxy({'__dict__': <attribute '__dict__' of 'Point' objects>,\n",
       "              '__doc__': ' 2차원 공간의 점을 표현한다.',\n",
       "              '__module__': '__main__',\n",
       "              '__weakref__': <attribute '__weakref__' of 'Point' objects>})"
      ]
     },
     "execution_count": 10,
     "metadata": {},
     "output_type": "execute_result"
    }
   ],
   "source": [
    "Point.__dict__"
   ]
  },
  {
   "cell_type": "code",
   "execution_count": 38,
   "metadata": {
    "collapsed": true
   },
   "outputs": [],
   "source": [
    "class Point:\n",
    "    def __init__(self, x, y):\n",
    "        self.x = x\n",
    "        self.y = y\n",
    "    def __str__(self):\n",
    "        return 'Point ({0:.2f},{1:.2f})'.format(self.x, self.y)"
   ]
  },
  {
   "cell_type": "code",
   "execution_count": 27,
   "metadata": {},
   "outputs": [
    {
     "data": {
      "text/plain": [
       "mappingproxy({'__dict__': <attribute '__dict__' of 'Point' objects>,\n",
       "              '__doc__': None,\n",
       "              '__init__': <function __main__.Point.__init__>,\n",
       "              '__module__': '__main__',\n",
       "              '__weakref__': <attribute '__weakref__' of 'Point' objects>})"
      ]
     },
     "execution_count": 27,
     "metadata": {},
     "output_type": "execute_result"
    }
   ],
   "source": [
    "Point.__dict__"
   ]
  },
  {
   "cell_type": "code",
   "execution_count": 30,
   "metadata": {},
   "outputs": [
    {
     "data": {
      "text/plain": [
       "1"
      ]
     },
     "execution_count": 30,
     "metadata": {},
     "output_type": "execute_result"
    }
   ],
   "source": [
    "p = Point(1,2)\n",
    "p.x"
   ]
  },
  {
   "cell_type": "markdown",
   "metadata": {},
   "source": [
    "## 15.2 Attributes 속성\n",
    "\n",
    "클래스의 속성은 클래스 외부에서도 추가할 수도 있다. 하지만\n",
    "클래스 나부에서 정의하자."
   ]
  },
  {
   "cell_type": "code",
   "execution_count": 9,
   "metadata": {},
   "outputs": [
    {
     "data": {
      "text/plain": [
       "7.0"
      ]
     },
     "execution_count": 9,
     "metadata": {},
     "output_type": "execute_result"
    }
   ],
   "source": [
    "\n",
    "\n",
    "\n",
    "p.x = 3.0\n",
    "p.y = 4.0\n",
    "\n",
    "p.x + p.y"
   ]
  },
  {
   "cell_type": "markdown",
   "metadata": {},
   "source": [
    "## 15.3 Rectangle 사각형\n",
    "\n",
    "사각형을 나타내는 (정의하는) 방법\n",
    "\n",
    "- 직사각형은 왼쪽 위 모서리 또는 중심의 위치와 너비, 높이를 지정한다.\n",
    "- 서로 마주보는 모서리(점)을 지정한다."
   ]
  },
  {
   "cell_type": "code",
   "execution_count": 42,
   "metadata": {
    "collapsed": true
   },
   "outputs": [],
   "source": [
    "class Rectangle:\n",
    "    \"\"\" 사각형을 표현한다.\n",
    "    Attribute\n",
    "    ---------\n",
    "    topleft : Point\n",
    "        top left corner of rectangle\n",
    "    width   : float\n",
    "        width of rectangle\n",
    "    height  : float\n",
    "        height of rectangle\n",
    "    \"\"\"\n",
    "    def __init__(self, topleft, width, height):\n",
    "        self.topleft = topleft\n",
    "        self.width   = width\n",
    "        self.height  = height\n",
    "        \n",
    "    def __str__(self):\n",
    "        return 'Rectangle TopLeft {}, width: {}, heigh: {}' \\\n",
    "                    .format(self.topleft, self.width, self.height)"
   ]
  },
  {
   "cell_type": "code",
   "execution_count": 43,
   "metadata": {},
   "outputs": [
    {
     "name": "stdout",
     "output_type": "stream",
     "text": [
      "Point (3.00,4.00)\n"
     ]
    }
   ],
   "source": [
    "p = Point(3,4)\n",
    "print(p)"
   ]
  },
  {
   "cell_type": "code",
   "execution_count": 44,
   "metadata": {
    "collapsed": true
   },
   "outputs": [],
   "source": [
    "rect = Rectangle(p, 10, 5)"
   ]
  },
  {
   "cell_type": "code",
   "execution_count": 45,
   "metadata": {},
   "outputs": [
    {
     "name": "stdout",
     "output_type": "stream",
     "text": [
      "Rectangle TopLeft Point (3.00,4.00), width: 10, heigh: 5\n"
     ]
    }
   ],
   "source": [
    "print(rect)"
   ]
  },
  {
   "cell_type": "markdown",
   "metadata": {},
   "source": [
    "## 15.4 Instances as return values 인스턴스를 리턴하기\n",
    "\n",
    "책의 예제와 다른 코드로 실습해보겠습니다.\n",
    "\n",
    "지금까지는 어떤 함수의 리턴값으로 숫자 또는 스트링 또는 리스트, 튜플을 반환했습니다.\n",
    "\n",
    "물론 어떤 클래스의 인스턴스를 리턴하는 것도 가능합니다.\n",
    "\n",
    "2차원 점(x,y)  를 나타내는 클래스를 정의하고\n",
    "\n",
    "x 가 주어졌을 때 (x, x) 에 해당하는 점 클래스의 인스턴스를 반환해보겠습니다."
   ]
  },
  {
   "cell_type": "code",
   "execution_count": 53,
   "metadata": {
    "collapsed": true
   },
   "outputs": [],
   "source": [
    "class Point2D:\n",
    "    def __init__(self, x, y):\n",
    "        self._x = x\n",
    "        self._y = y\n",
    "    \n",
    "    @property\n",
    "    def x(self):\n",
    "        return self._x\n",
    "    @x.setter\n",
    "    def x(self, value):\n",
    "        self._x = value\n",
    "        \n",
    "    def __repr__(self):\n",
    "        return '({0}, {1})'.format(self._x, self._y)"
   ]
  },
  {
   "cell_type": "code",
   "execution_count": 54,
   "metadata": {},
   "outputs": [
    {
     "data": {
      "text/plain": [
       "(1, 2)"
      ]
     },
     "execution_count": 54,
     "metadata": {},
     "output_type": "execute_result"
    }
   ],
   "source": [
    "p = Point2D(1,2)\n",
    "p.x, p._y"
   ]
  },
  {
   "cell_type": "markdown",
   "metadata": {},
   "source": [
    "- 위의 클래스에서 \\__init__  는 생성자 함수입니다.\n",
    "- self 는 자기 자신(인스턴스)에 대한 레퍼런스입니다. Java 의 this 와 같의 의미입니다.\n",
    "-  멤버 변수는 self.<variable_name> 과 같이 사용합니다.\n",
    "- @property 는 getter 함수에 대한 데코레이터 입니다.\n",
    "- 왜 self.x 대신 self._x 를 사용한 이유는 무엇일까요?\n",
    "- @x.setter 는 x 로 불러오는 멤버변수에 대한 setter 함수에 대한 데코레이터입니다.\n",
    "- y 에 관한 내용도 클래스 정의에 추가해봅시다.\n",
    "- \\__repr__ 메쏘드와 같이 \\__ 로 시작하고 \\__ 로 끝나는 메쏘드를 매직메쏘드라고 합니다.\n",
    "- \\__repr__ 에서는 인스턴스를 print 했을 때의 결과를 정의합니다.\n"
   ]
  },
  {
   "cell_type": "code",
   "execution_count": 55,
   "metadata": {
    "collapsed": true
   },
   "outputs": [],
   "source": [
    "def linear_point(x):\n",
    "    point = Point2D(x, x)\n",
    "    return point"
   ]
  },
  {
   "cell_type": "code",
   "execution_count": 56,
   "metadata": {},
   "outputs": [
    {
     "data": {
      "text/plain": [
       "(8, 8)"
      ]
     },
     "execution_count": 56,
     "metadata": {},
     "output_type": "execute_result"
    }
   ],
   "source": [
    "point = linear_point(8)\n",
    "point"
   ]
  },
  {
   "cell_type": "markdown",
   "metadata": {},
   "source": [
    "## 15.5 Object are mutable 오브젝트는 변할 수 있다\n",
    "\n",
    "객체의 멤버변수는 변경이 가능합니다."
   ]
  },
  {
   "cell_type": "code",
   "execution_count": 59,
   "metadata": {},
   "outputs": [
    {
     "name": "stdout",
     "output_type": "stream",
     "text": [
      "(3, 3)\n"
     ]
    }
   ],
   "source": [
    "point = linear_point(3)\n",
    "print(point)"
   ]
  },
  {
   "cell_type": "code",
   "execution_count": 61,
   "metadata": {},
   "outputs": [
    {
     "name": "stdout",
     "output_type": "stream",
     "text": [
      "(13, 3)\n"
     ]
    }
   ],
   "source": [
    "point.x = 13\n",
    "print(point)"
   ]
  },
  {
   "cell_type": "markdown",
   "metadata": {},
   "source": [
    "## 15.6 Copying 인스턴스 복사하기"
   ]
  },
  {
   "cell_type": "code",
   "execution_count": 67,
   "metadata": {},
   "outputs": [
    {
     "data": {
      "text/plain": [
       "3"
      ]
     },
     "execution_count": 67,
     "metadata": {},
     "output_type": "execute_result"
    }
   ],
   "source": [
    "p1 = linear_point(3)\n",
    "p1.x"
   ]
  },
  {
   "cell_type": "code",
   "execution_count": 68,
   "metadata": {},
   "outputs": [
    {
     "name": "stdout",
     "output_type": "stream",
     "text": [
      "(3, 3)\n",
      "(3, 3)\n"
     ]
    }
   ],
   "source": [
    "import copy\n",
    "p2 = copy.copy(p1)\n",
    "print(p1)\n",
    "print(p2)"
   ]
  },
  {
   "cell_type": "code",
   "execution_count": 69,
   "metadata": {},
   "outputs": [
    {
     "data": {
      "text/plain": [
       "False"
      ]
     },
     "execution_count": 69,
     "metadata": {},
     "output_type": "execute_result"
    }
   ],
   "source": [
    "p1 is p2"
   ]
  },
  {
   "cell_type": "code",
   "execution_count": 70,
   "metadata": {},
   "outputs": [
    {
     "data": {
      "text/plain": [
       "False"
      ]
     },
     "execution_count": 70,
     "metadata": {},
     "output_type": "execute_result"
    }
   ],
   "source": [
    "p1 == p2"
   ]
  },
  {
   "cell_type": "markdown",
   "metadata": {},
   "source": [
    " is 연산자로 p1 과 p2 가 같은 객체를 가르키는데 사용할 수 있다.\n",
    " \n",
    " \n",
    " == 연산자에서는 인스턴스의 멤버면수까리 값을 비교하는데 사용을 할 수 있다."
   ]
  },
  {
   "cell_type": "code",
   "execution_count": null,
   "metadata": {
    "collapsed": true
   },
   "outputs": [],
   "source": []
  }
 ],
 "metadata": {
  "kernelspec": {
   "display_name": "Python 3",
   "language": "python",
   "name": "python3"
  },
  "language_info": {
   "codemirror_mode": {
    "name": "ipython",
    "version": 3
   },
   "file_extension": ".py",
   "mimetype": "text/x-python",
   "name": "python",
   "nbconvert_exporter": "python",
   "pygments_lexer": "ipython3",
   "version": "3.6.1"
  }
 },
 "nbformat": 4,
 "nbformat_minor": 2
}
