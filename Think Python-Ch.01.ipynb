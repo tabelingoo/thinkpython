{
 "cells": [
  {
   "cell_type": "markdown",
   "metadata": {},
   "source": [
    "# 1.프로그램의 길\n",
    "\n",
    "- 이 책은 목표\n",
    "    - 컴퓨터 과학자처럼 생각하는 법을 가르치는 것\n",
    "\n",
    "\n",
    "- 사고방식\n",
    "    - 수학 + 공학 + 자연과학의 사고하는 방법을 결합하 것\n",
    "    - 관찰 > 가설 > 검증\n",
    "\n",
    "\n",
    "- 문제해결은 컴퓨터 과학자에게 가장 중요한 스킬\n",
    "    - 프로그래밍은 문제해결 능력을 키우는 기회를 제공\n",
    "    \n",
    "\n"
   ]
  },
  {
   "cell_type": "markdown",
   "metadata": {
    "collapsed": true
   },
   "source": [
    "## 1.1 프로그램은 무엇인가?\n",
    "\n",
    "- 텍스트를 검색해서 치환하는 것\n",
    "\n",
    "- 이미지 처리\n",
    "\n",
    "- 계산 (symbolic computation)\n",
    "\n",
    "### 입력\n",
    "\n",
    "키보드, 파일, 네트워크, 다른 기기\n",
    "\n",
    "- input\n",
    "\n",
    "- open(filname, 'rt')\n",
    "\n",
    "- requests, urllib.urlopen\n",
    "\n",
    "\n",
    "### 출력\n",
    "\n",
    "스크린에 데이터 표시, 파일에 데이터 저장, 데이터 네트워크 전송\n",
    "\n",
    "- print(\"Hello world\")\n",
    "\n",
    "- open(filename,'wt')\n",
    "\n",
    "### 수학\n",
    "\n",
    "산술 연산\n",
    "\n",
    "- 사칙연산(+, -, *, /)   몫, 나머지,  삼각함수, 로그\n",
    "- numpy vector operations\n",
    "\n",
    "### 조건 실행\n",
    "\n",
    "- if, elif, else\n",
    "\n",
    "조건 실행은 아니지만...\n",
    "- y = 100 if x > 0 else -100\n",
    "- z = x or y\n",
    "\n",
    "### 반복\n",
    "\n",
    "- for\n",
    "- while\n",
    "\n",
    "\n",
    "위의 조각들을 적절히 조합한 것이 프로그래밍의 전부다!\n",
    "\n"
   ]
  },
  {
   "cell_type": "code",
   "execution_count": null,
   "metadata": {
    "collapsed": true
   },
   "outputs": [],
   "source": []
  }
 ],
 "metadata": {
  "kernelspec": {
   "display_name": "Python 3",
   "language": "python",
   "name": "python3"
  },
  "language_info": {
   "codemirror_mode": {
    "name": "ipython",
    "version": 3
   },
   "file_extension": ".py",
   "mimetype": "text/x-python",
   "name": "python",
   "nbconvert_exporter": "python",
   "pygments_lexer": "ipython3",
   "version": "3.6.1"
  }
 },
 "nbformat": 4,
 "nbformat_minor": 2
}
