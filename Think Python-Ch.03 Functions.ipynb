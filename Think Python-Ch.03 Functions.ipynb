{
 "cells": [
  {
   "cell_type": "markdown",
   "metadata": {},
   "source": [
    "프로그래밍에서 함수란 계산을 수행하는 구문의 나열에 이름을 붙인 것이다.\n",
    "\n",
    "함수에 이름을 붙이고 구문들을 지정하면, 함수의 이름으로 그 구문들을 실행할 수 있다.\n"
   ]
  },
  {
   "cell_type": "markdown",
   "metadata": {},
   "source": [
    "## 3.1 Function calls 함수 호출\n",
    "\n",
    "함수를 호출하는 방법 : 함수이름(인자)"
   ]
  },
  {
   "cell_type": "code",
   "execution_count": 1,
   "metadata": {},
   "outputs": [
    {
     "data": {
      "text/plain": [
       "int"
      ]
     },
     "execution_count": 1,
     "metadata": {},
     "output_type": "execute_result"
    }
   ],
   "source": [
    "type(42)"
   ]
  },
  {
   "cell_type": "code",
   "execution_count": 12,
   "metadata": {},
   "outputs": [
    {
     "data": {
      "text/plain": [
       "type"
      ]
     },
     "execution_count": 12,
     "metadata": {},
     "output_type": "execute_result"
    }
   ],
   "source": [
    "type(type)  # type 은 함수가 아닌가?"
   ]
  },
  {
   "cell_type": "code",
   "execution_count": 6,
   "metadata": {},
   "outputs": [
    {
     "data": {
      "text/plain": [
       "(32, 3, -2)"
      ]
     },
     "execution_count": 6,
     "metadata": {},
     "output_type": "execute_result"
    }
   ],
   "source": [
    "int('32'), int(3.999),int(-2.3)"
   ]
  },
  {
   "cell_type": "code",
   "execution_count": 7,
   "metadata": {},
   "outputs": [
    {
     "data": {
      "text/plain": [
       "32.0"
      ]
     },
     "execution_count": 7,
     "metadata": {},
     "output_type": "execute_result"
    }
   ],
   "source": [
    "float(32)"
   ]
  },
  {
   "cell_type": "code",
   "execution_count": 8,
   "metadata": {},
   "outputs": [
    {
     "data": {
      "text/plain": [
       "'32'"
      ]
     },
     "execution_count": 8,
     "metadata": {},
     "output_type": "execute_result"
    }
   ],
   "source": [
    "str(32)"
   ]
  },
  {
   "cell_type": "code",
   "execution_count": 11,
   "metadata": {},
   "outputs": [
    {
     "data": {
      "text/plain": [
       "function"
      ]
     },
     "execution_count": 11,
     "metadata": {},
     "output_type": "execute_result"
    }
   ],
   "source": [
    "def identity(x):\n",
    "    return x\n",
    "\n",
    "type(identity)"
   ]
  },
  {
   "cell_type": "markdown",
   "metadata": {},
   "source": [
    "## 3.2 Math functions 수학 함수\n",
    "\n",
    "모듈을 사용하는 방법\n",
    "\n",
    "import <모듈 이름>"
   ]
  },
  {
   "cell_type": "code",
   "execution_count": 13,
   "metadata": {
    "collapsed": true
   },
   "outputs": [],
   "source": [
    "import math"
   ]
  },
  {
   "cell_type": "code",
   "execution_count": 14,
   "metadata": {},
   "outputs": [
    {
     "data": {
      "text/plain": [
       "<module 'math' (built-in)>"
      ]
     },
     "execution_count": 14,
     "metadata": {},
     "output_type": "execute_result"
    }
   ],
   "source": [
    "math"
   ]
  },
  {
   "cell_type": "code",
   "execution_count": 15,
   "metadata": {},
   "outputs": [
    {
     "data": {
      "text/plain": [
       "0.7071067811865476"
      ]
     },
     "execution_count": 15,
     "metadata": {},
     "output_type": "execute_result"
    }
   ],
   "source": [
    "degrees = 45\n",
    "radians = degrees / 180.0 * math.pi\n",
    "math.sin(radians)"
   ]
  },
  {
   "cell_type": "markdown",
   "metadata": {},
   "source": [
    "## 3.3 Composition 함수 합성하기"
   ]
  },
  {
   "cell_type": "code",
   "execution_count": 17,
   "metadata": {
    "collapsed": true
   },
   "outputs": [],
   "source": [
    "x = math.sin(degrees / 360.0 * 2 * math.pi)\n",
    "x = math.exp(math.log(x+1))"
   ]
  },
  {
   "cell_type": "markdown",
   "metadata": {},
   "source": [
    "## 3.4 Adding new functions  함수 정의하기\n"
   ]
  },
  {
   "cell_type": "code",
   "execution_count": 22,
   "metadata": {},
   "outputs": [
    {
     "name": "stdout",
     "output_type": "stream",
     "text": [
      "I'm a lumberjack, and I'm okay.\n",
      "I sleep allnight  and I work all day.\n"
     ]
    }
   ],
   "source": [
    "def print_lyrics():\n",
    "    print(\"I'm a lumberjack, and I'm okay.\")\n",
    "    print(\"I sleep allnight  and I work all day.\")\n",
    "    \n",
    "print_lyrics()"
   ]
  },
  {
   "cell_type": "code",
   "execution_count": 23,
   "metadata": {},
   "outputs": [
    {
     "data": {
      "text/plain": [
       "function"
      ]
     },
     "execution_count": 23,
     "metadata": {},
     "output_type": "execute_result"
    }
   ],
   "source": [
    "type(print_lyrics)"
   ]
  },
  {
   "cell_type": "code",
   "execution_count": 24,
   "metadata": {},
   "outputs": [
    {
     "name": "stdout",
     "output_type": "stream",
     "text": [
      "I'm a lumberjack, and I'm okay.\n",
      "I sleep allnight  and I work all day.\n",
      "I'm a lumberjack, and I'm okay.\n",
      "I sleep allnight  and I work all day.\n",
      "I'm a lumberjack, and I'm okay.\n",
      "I sleep allnight  and I work all day.\n"
     ]
    }
   ],
   "source": [
    "print_lyrics()\n",
    "print_lyrics()\n",
    "print_lyrics()"
   ]
  },
  {
   "cell_type": "markdown",
   "metadata": {},
   "source": [
    "## 3.5 함수 정의하고 사용하기"
   ]
  },
  {
   "cell_type": "code",
   "execution_count": 25,
   "metadata": {
    "collapsed": true
   },
   "outputs": [],
   "source": [
    "def print_lyrics():\n",
    "    print(\"I'm a lumberjack, and I'm okay.\")\n",
    "    print(\"I sleep allnight  and I work all day.\")\n",
    "    \n",
    "def repeat_lyrics():\n",
    "    print_lyrics()\n",
    "    print_lyrics()"
   ]
  },
  {
   "cell_type": "code",
   "execution_count": 26,
   "metadata": {},
   "outputs": [
    {
     "name": "stdout",
     "output_type": "stream",
     "text": [
      "I'm a lumberjack, and I'm okay.\n",
      "I sleep allnight  and I work all day.\n",
      "I'm a lumberjack, and I'm okay.\n",
      "I sleep allnight  and I work all day.\n"
     ]
    }
   ],
   "source": [
    "repeat_lyrics()"
   ]
  },
  {
   "cell_type": "markdown",
   "metadata": {},
   "source": [
    "## 3.6 Flow of exection 실행의 흐름\n",
    "\n",
    "함수는 스크립트에서 처음 사용되기 전에 먼저 정의되어 있어야 한다."
   ]
  },
  {
   "cell_type": "code",
   "execution_count": 27,
   "metadata": {},
   "outputs": [
    {
     "name": "stdout",
     "output_type": "stream",
     "text": [
      "func_A\n",
      "func_B\n"
     ]
    }
   ],
   "source": [
    "def func_A():\n",
    "    print('func_A')\n",
    "    func_B()\n",
    "    \n",
    "def func_B():\n",
    "    print('func_B')\n",
    "    \n",
    "func_A()"
   ]
  },
  {
   "cell_type": "markdown",
   "metadata": {},
   "source": [
    "## 3.7 Parameters and arguments  파라이터와 인자\n",
    "\n",
    "어떤 함수는 하나 또는 여러개의 인자를 필요로한다.\n",
    "\n",
    "함수 안에서는 인자들은 파라미터라고 부르는 인자들에 할당한다.\n",
    "\n"
   ]
  },
  {
   "cell_type": "code",
   "execution_count": 28,
   "metadata": {
    "collapsed": true
   },
   "outputs": [],
   "source": [
    "def print_twice(bruce):\n",
    "    print(bruce)\n",
    "    print(bruce)\n",
    "\n",
    "    "
   ]
  },
  {
   "cell_type": "code",
   "execution_count": 30,
   "metadata": {},
   "outputs": [
    {
     "name": "stdout",
     "output_type": "stream",
     "text": [
      "Spam\n",
      "Spam\n"
     ]
    }
   ],
   "source": [
    "print_twice('Spam')"
   ]
  },
  {
   "cell_type": "code",
   "execution_count": 31,
   "metadata": {},
   "outputs": [
    {
     "name": "stdout",
     "output_type": "stream",
     "text": [
      "42\n",
      "42\n"
     ]
    }
   ],
   "source": [
    "print_twice(42)"
   ]
  },
  {
   "cell_type": "markdown",
   "metadata": {},
   "source": [
    "## 3.8 Variables and parameters are local  변수와 파라미터는 지역적이다\n",
    "\n",
    "함수 안에서 변수를 지정하면 그 변수는 함수 안에서만 존재한다. (함수 안에서만 호출할 수 있다.)"
   ]
  },
  {
   "cell_type": "code",
   "execution_count": 32,
   "metadata": {},
   "outputs": [
    {
     "name": "stdout",
     "output_type": "stream",
     "text": [
      "Bing tiddle tiddle bang\n",
      "Bing tiddle tiddle bang\n"
     ]
    }
   ],
   "source": [
    "def cat_twice(part1, part2):\n",
    "    cat = part1 + part2\n",
    "    print_twice(cat)\n",
    "\n",
    "line1 = 'Bing tiddle '\n",
    "line2 = 'tiddle bang'\n",
    "\n",
    "cat_twice(line1,line2)"
   ]
  },
  {
   "cell_type": "markdown",
   "metadata": {},
   "source": [
    "함수 외부에서 호출한 결과"
   ]
  },
  {
   "cell_type": "code",
   "execution_count": 33,
   "metadata": {},
   "outputs": [
    {
     "ename": "NameError",
     "evalue": "name 'cat' is not defined",
     "output_type": "error",
     "traceback": [
      "\u001b[1;31m---------------------------------------------------------------------------\u001b[0m",
      "\u001b[1;31mNameError\u001b[0m                                 Traceback (most recent call last)",
      "\u001b[1;32m<ipython-input-33-7c3364e51d98>\u001b[0m in \u001b[0;36m<module>\u001b[1;34m()\u001b[0m\n\u001b[1;32m----> 1\u001b[1;33m \u001b[0mprint\u001b[0m\u001b[1;33m(\u001b[0m\u001b[0mcat\u001b[0m\u001b[1;33m)\u001b[0m\u001b[1;33m\u001b[0m\u001b[0m\n\u001b[0m",
      "\u001b[1;31mNameError\u001b[0m: name 'cat' is not defined"
     ]
    }
   ],
   "source": [
    "print(cat)"
   ]
  },
  {
   "cell_type": "markdown",
   "metadata": {},
   "source": [
    "## 3.9 Stack diagrams\n",
    "\n",
    "파이썬 스크립트를 실행시키면 스크립트 안에서 호출된 함수가 다른 함수를 호출하는 경우가 대부분이다.\n",
    "\n",
    "이런 경우 함수가 호출되는 순서대로 스택 다이어그램을 쌓아서 그릴 수 있다.\n",
    "\n",
    "\\__main__ 은 파이썬에서 최상위 프레임을 나타내는 특별한 이름이다.  \n",
    "\n",
    "스크립트 실행 도중에 오류가 발생하면 오류를 발생시킨 부분을 호출한 함수목록을 차례대로 보여준다."
   ]
  },
  {
   "cell_type": "code",
   "execution_count": 35,
   "metadata": {},
   "outputs": [
    {
     "name": "stdout",
     "output_type": "stream",
     "text": [
      "50.0\n"
     ]
    },
    {
     "ename": "ZeroDivisionError",
     "evalue": "division by zero",
     "output_type": "error",
     "traceback": [
      "\u001b[1;31m---------------------------------------------------------------------------\u001b[0m",
      "\u001b[1;31mZeroDivisionError\u001b[0m                         Traceback (most recent call last)",
      "\u001b[1;32m<ipython-input-35-d95282d01125>\u001b[0m in \u001b[0;36m<module>\u001b[1;34m()\u001b[0m\n\u001b[0;32m     10\u001b[0m \u001b[1;32mif\u001b[0m \u001b[0m__name__\u001b[0m \u001b[1;33m==\u001b[0m \u001b[1;34m'__main__'\u001b[0m\u001b[1;33m:\u001b[0m\u001b[1;33m\u001b[0m\u001b[0m\n\u001b[0;32m     11\u001b[0m     \u001b[0mprint\u001b[0m\u001b[1;33m(\u001b[0m\u001b[0mstring_divide\u001b[0m\u001b[1;33m(\u001b[0m\u001b[1;34m\"100\"\u001b[0m\u001b[1;33m,\u001b[0m \u001b[1;34m\"2\"\u001b[0m\u001b[1;33m)\u001b[0m\u001b[1;33m)\u001b[0m\u001b[1;33m\u001b[0m\u001b[0m\n\u001b[1;32m---> 12\u001b[1;33m     \u001b[0mprint\u001b[0m\u001b[1;33m(\u001b[0m\u001b[0mstring_divide\u001b[0m\u001b[1;33m(\u001b[0m\u001b[1;34m\"100\"\u001b[0m\u001b[1;33m,\u001b[0m \u001b[1;34m\"0\"\u001b[0m\u001b[1;33m)\u001b[0m\u001b[1;33m)\u001b[0m\u001b[1;33m\u001b[0m\u001b[0m\n\u001b[0m\u001b[0;32m     13\u001b[0m \u001b[1;33m\u001b[0m\u001b[0m\n",
      "\u001b[1;32m<ipython-input-35-d95282d01125>\u001b[0m in \u001b[0;36mstring_divide\u001b[1;34m(a, b)\u001b[0m\n\u001b[0;32m      6\u001b[0m \u001b[1;33m\u001b[0m\u001b[0m\n\u001b[0;32m      7\u001b[0m \u001b[1;32mdef\u001b[0m \u001b[0mstring_divide\u001b[0m\u001b[1;33m(\u001b[0m\u001b[0ma\u001b[0m\u001b[1;33m,\u001b[0m \u001b[0mb\u001b[0m\u001b[1;33m)\u001b[0m\u001b[1;33m:\u001b[0m\u001b[1;33m\u001b[0m\u001b[0m\n\u001b[1;32m----> 8\u001b[1;33m     \u001b[1;32mreturn\u001b[0m \u001b[0mdivide\u001b[0m\u001b[1;33m(\u001b[0m\u001b[0mchange2int\u001b[0m\u001b[1;33m(\u001b[0m\u001b[0ma\u001b[0m\u001b[1;33m)\u001b[0m\u001b[1;33m,\u001b[0m \u001b[0mchange2int\u001b[0m\u001b[1;33m(\u001b[0m\u001b[0mb\u001b[0m\u001b[1;33m)\u001b[0m\u001b[1;33m)\u001b[0m\u001b[1;33m\u001b[0m\u001b[0m\n\u001b[0m\u001b[0;32m      9\u001b[0m \u001b[1;33m\u001b[0m\u001b[0m\n\u001b[0;32m     10\u001b[0m \u001b[1;32mif\u001b[0m \u001b[0m__name__\u001b[0m \u001b[1;33m==\u001b[0m \u001b[1;34m'__main__'\u001b[0m\u001b[1;33m:\u001b[0m\u001b[1;33m\u001b[0m\u001b[0m\n",
      "\u001b[1;32m<ipython-input-35-d95282d01125>\u001b[0m in \u001b[0;36mdivide\u001b[1;34m(x, y)\u001b[0m\n\u001b[0;32m      3\u001b[0m \u001b[1;33m\u001b[0m\u001b[0m\n\u001b[0;32m      4\u001b[0m \u001b[1;32mdef\u001b[0m \u001b[0mdivide\u001b[0m\u001b[1;33m(\u001b[0m\u001b[0mx\u001b[0m\u001b[1;33m,\u001b[0m \u001b[0my\u001b[0m\u001b[1;33m)\u001b[0m\u001b[1;33m:\u001b[0m\u001b[1;33m\u001b[0m\u001b[0m\n\u001b[1;32m----> 5\u001b[1;33m     \u001b[1;32mreturn\u001b[0m \u001b[0mx\u001b[0m \u001b[1;33m/\u001b[0m \u001b[0my\u001b[0m\u001b[1;33m\u001b[0m\u001b[0m\n\u001b[0m\u001b[0;32m      6\u001b[0m \u001b[1;33m\u001b[0m\u001b[0m\n\u001b[0;32m      7\u001b[0m \u001b[1;32mdef\u001b[0m \u001b[0mstring_divide\u001b[0m\u001b[1;33m(\u001b[0m\u001b[0ma\u001b[0m\u001b[1;33m,\u001b[0m \u001b[0mb\u001b[0m\u001b[1;33m)\u001b[0m\u001b[1;33m:\u001b[0m\u001b[1;33m\u001b[0m\u001b[0m\n",
      "\u001b[1;31mZeroDivisionError\u001b[0m: division by zero"
     ]
    }
   ],
   "source": [
    "def change2int(num_str):\n",
    "    return int(num_str)\n",
    "\n",
    "def divide(x, y):\n",
    "    return x / y\n",
    "\n",
    "def string_divide(a, b):\n",
    "    return divide(change2int(a), change2int(b))\n",
    "\n",
    "if __name__ == '__main__':\n",
    "    print(string_divide(\"100\", \"2\"))\n",
    "    print(string_divide(\"100\", \"0\"))\n",
    "    "
   ]
  },
  {
   "cell_type": "markdown",
   "metadata": {},
   "source": [
    "## 3.10 Fruitful functions and void functions 결과가 있는 함수와 없는 함수\n",
    "\n",
    "지금까지 있는 함수 중에는 math 의 함수처럼 결과를 반환하는 함수도 있고\n",
    "\n",
    "print_twice 처럼 동작은 하지만 값을 반환하지 않는 함수도 있다.\n",
    "\n",
    "아무런 결과를 반환하지 않는 함수(void function)로부터 값을 할당 받으면 None 이라는 특별한 값을 얻는다."
   ]
  },
  {
   "cell_type": "code",
   "execution_count": 36,
   "metadata": {},
   "outputs": [
    {
     "name": "stdout",
     "output_type": "stream",
     "text": [
      "I'm void function\n",
      "<class 'NoneType'>\n"
     ]
    }
   ],
   "source": [
    "def some_void_function():\n",
    "    print(\"I'm void function\")\n",
    "    \n",
    "result = some_void_function()\n",
    "\n",
    "print(type(result))"
   ]
  },
  {
   "cell_type": "markdown",
   "metadata": {},
   "source": [
    "## 3.11 Why functions? 왜 함수인가?\n",
    "\n",
    "#### 함수를 사용하는 이유\n",
    "\n",
    "- 새 함수를 만들면 이름을 붙일 수 있고 프로그램을 읽거나 디버그하는게 쉬워진다.\n",
    "\n",
    "- 반복되는 코드를 줄일 수 있다.\n",
    "\n",
    "- 다른 파일에서도 재사용할 수 있다.\n",
    "\n",
    "\n"
   ]
  },
  {
   "cell_type": "markdown",
   "metadata": {},
   "source": [
    "## 3.12 Debugging  디버깅\n",
    "\n",
    "프로그래밍에서 가장 지적이고, 도전적이고, 흥미로운 부분이다.\n",
    "\n",
    "디버깅은 탐정이 하는 일과 비슷하며 실험 과학과도 비슷하다."
   ]
  },
  {
   "cell_type": "markdown",
   "metadata": {},
   "source": [
    "## 3.13 Glossary 용어\n",
    "\n",
    "- 함수\n",
    "- 함수 정의\n",
    "- 함수 객체\n",
    "- 헤더\n",
    "- 바디\n",
    "- 인자\n",
    "- 함수 호출\n",
    "- 인수\n",
    "- 지역 변수\n",
    "- 반환값\n",
    "- 결과가 있는 함수\n",
    "- 빈 함수 : 항상 None 을 반환하는 함수\n",
    "- None\n",
    "- 모듈 : 관련 함수와 정의를 모아 놓은 파일\n",
    "- import 문 : 모듈 파일을 읽어서 모듈 객체를 생성하는 statement\n",
    "- 모듈 객체 : 모듈에 정의된 값에 접근하기 위해 import 문으로 생성한 값\n",
    "- 점 표기법 : 다른 모듈에서 함수를 호출하기 위해 모듈 이름 뒤에 점과 함수 이름을 지정하는 구문\n",
    "- 조합\n",
    "- 실행 흐름\n",
    "- 스택 다이어그램\n",
    "- 프레임\n",
    "- Trace Back\n"
   ]
  },
  {
   "cell_type": "markdown",
   "metadata": {},
   "source": [
    "## 3.14 연습문제\n",
    "\n",
    "\n",
    "#### 연습문제 3-1  \n",
    "\n",
    "문자열 s 를 인자로 받아서 문자열 앞에 공백을 추가해 문자열의 마지막 문자가 70번째 칸에 출력되게 하는 right_justify 함수를 작성하라\n",
    "힌트)  len()   함수를 사용한다.\n",
    "\n",
    "\\>>> len('monty')\n",
    "\n",
    "5\n"
   ]
  },
  {
   "cell_type": "code",
   "execution_count": 38,
   "metadata": {
    "collapsed": true
   },
   "outputs": [],
   "source": [
    "def right_justify(text):\n",
    "    pass"
   ]
  },
  {
   "cell_type": "markdown",
   "metadata": {},
   "source": [
    "### 연습문제 3-3\n",
    "\n",
    "1. 격자 그리기"
   ]
  },
  {
   "cell_type": "code",
   "execution_count": 40,
   "metadata": {},
   "outputs": [
    {
     "name": "stdout",
     "output_type": "stream",
     "text": [
      "+----+----+\n",
      "|    |    |\n",
      "|    |    |\n",
      "|    |    |\n",
      "|    |    |\n",
      "+----+----+\n",
      "|    |    |\n",
      "|    |    |\n",
      "|    |    |\n",
      "|    |    |\n",
      "+----+----+\n"
     ]
    }
   ],
   "source": [
    "def draw_horizontal():\n",
    "    print('+----+----+')\n",
    "def draw_verticle():\n",
    "    print('|    |    |')\n",
    "\n",
    "def draw_lattice():\n",
    "    for i in range(10+1):\n",
    "        if i % 5 == 0:\n",
    "            draw_horizontal()\n",
    "        else:\n",
    "            draw_verticle()\n",
    "            \n",
    "draw_lattice()\n",
    "    "
   ]
  },
  {
   "cell_type": "code",
   "execution_count": 43,
   "metadata": {},
   "outputs": [
    {
     "name": "stdout",
     "output_type": "stream",
     "text": [
      "+----+----+\n",
      "|    |    |\n",
      "|    |    |\n",
      "|    |    |\n",
      "|    |    |\n",
      "+----+----+\n",
      "|    |    |\n",
      "|    |    |\n",
      "|    |    |\n",
      "|    |    |\n",
      "+----+----+\n"
     ]
    }
   ],
   "source": [
    "def draw_lattice():\n",
    "    for y in range(10+1):\n",
    "        for x in range(10+1):\n",
    "            if y % 5 == 0:\n",
    "                if x % 5 == 0:\n",
    "                    print('+', end='')\n",
    "                else:\n",
    "                    print('-', end='')\n",
    "            else:\n",
    "                if x % 5 == 0:\n",
    "                    print('|', end='')\n",
    "                else:\n",
    "                    print(' ', end='')\n",
    "            if x == 10:\n",
    "                print()\n",
    "                \n",
    "draw_lattice()"
   ]
  },
  {
   "cell_type": "code",
   "execution_count": null,
   "metadata": {
    "collapsed": true
   },
   "outputs": [],
   "source": []
  }
 ],
 "metadata": {
  "kernelspec": {
   "display_name": "Python 3",
   "language": "python",
   "name": "python3"
  },
  "language_info": {
   "codemirror_mode": {
    "name": "ipython",
    "version": 3
   },
   "file_extension": ".py",
   "mimetype": "text/x-python",
   "name": "python",
   "nbconvert_exporter": "python",
   "pygments_lexer": "ipython3",
   "version": "3.6.1"
  }
 },
 "nbformat": 4,
 "nbformat_minor": 2
}
