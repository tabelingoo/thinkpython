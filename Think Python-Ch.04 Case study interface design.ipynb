{
 "cells": [
  {
   "cell_type": "markdown",
   "metadata": {},
   "source": [
    "이 장에서는 turtle 모듈을 사용해서 그림(이미지)를 그려본다. \n",
    "\n",
    "모듈이란 이미 정의해둔 함수의 집합니다.\n",
    "\n",
    "## 4.1 turtle 모듈"
   ]
  },
  {
   "cell_type": "markdown",
   "metadata": {},
   "source": [
    "\n",
    "문서\n",
    "\n",
    "https://docs.python.org/3.3/library/turtle.html?highlight=turtle\n",
    "\n"
   ]
  },
  {
   "cell_type": "code",
   "execution_count": 1,
   "metadata": {},
   "outputs": [
    {
     "name": "stdout",
     "output_type": "stream",
     "text": [
      "<turtle.Turtle object at 0x0000000004DD8C50>\n"
     ]
    }
   ],
   "source": [
    "import turtle\n",
    "bob = turtle.Turtle()\n",
    "\n",
    "print(bob)\n",
    "\n",
    "for i in range(4):\n",
    "    bob.fd(100)\n",
    "    bob.lt(90)"
   ]
  },
  {
   "cell_type": "markdown",
   "metadata": {
    "scrolled": false
   },
   "source": [
    "fd 는 forward\n",
    "\n",
    "lt 는 left turn 의 줄임말 인 것 같습니다.\n",
    "\n",
    "- fd: forward\n",
    "- bk: back"
   ]
  },
  {
   "cell_type": "markdown",
   "metadata": {
    "collapsed": true
   },
   "source": [
    "### 정사각형을 그리는 함수\n",
    "\n",
    "그림을 다 그리고 사라진다.   안 사라지게 할 수 없을까?"
   ]
  },
  {
   "cell_type": "code",
   "execution_count": null,
   "metadata": {
    "collapsed": true
   },
   "outputs": [],
   "source": [
    "import turtle\n",
    "\n",
    "def square(t, length):\n",
    "    for i in range(4):\n",
    "        t.fd(length)\n",
    "        t.lt(90)\n",
    "\n",
    "if __name__ == '__main__':\n",
    "    t = turtle.Turtle()\n",
    "    square(t, 100)"
   ]
  }
 ],
 "metadata": {
  "kernelspec": {
   "display_name": "Python 3",
   "language": "python",
   "name": "python3"
  },
  "language_info": {
   "codemirror_mode": {
    "name": "ipython",
    "version": 3
   },
   "file_extension": ".py",
   "mimetype": "text/x-python",
   "name": "python",
   "nbconvert_exporter": "python",
   "pygments_lexer": "ipython3",
   "version": "3.6.1"
  }
 },
 "nbformat": 4,
 "nbformat_minor": 2
}
