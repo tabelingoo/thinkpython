{
 "cells": [
  {
   "cell_type": "markdown",
   "metadata": {},
   "source": [
    "## Reassignment 재할당"
   ]
  },
  {
   "cell_type": "code",
   "execution_count": 1,
   "metadata": {},
   "outputs": [
    {
     "name": "stdout",
     "output_type": "stream",
     "text": [
      "x = 5\n"
     ]
    }
   ],
   "source": [
    "x = 5\n",
    "print('x = {0}'.format(x))"
   ]
  },
  {
   "cell_type": "code",
   "execution_count": 2,
   "metadata": {},
   "outputs": [
    {
     "name": "stdout",
     "output_type": "stream",
     "text": [
      "x = 7\n"
     ]
    }
   ],
   "source": [
    "x = 7\n",
    "print('x = {0}'.format(x))"
   ]
  },
  {
   "cell_type": "markdown",
   "metadata": {},
   "source": [
    "## 변수 업데이트"
   ]
  },
  {
   "cell_type": "code",
   "execution_count": 4,
   "metadata": {},
   "outputs": [
    {
     "name": "stdout",
     "output_type": "stream",
     "text": [
      "x = 8\n"
     ]
    }
   ],
   "source": [
    "x = x + 1  # x++ doesn't work in python\n",
    "\n",
    "print('x = {0}'.format(x))"
   ]
  },
  {
   "cell_type": "markdown",
   "metadata": {},
   "source": [
    "## while 문"
   ]
  },
  {
   "cell_type": "code",
   "execution_count": 3,
   "metadata": {
    "collapsed": true
   },
   "outputs": [],
   "source": [
    "def dec2bin(n):\n",
    "    \"\"\" 10 진수 숫자를 2 진수 숫자 표현의 스트링으로 바꾸는 함수\n",
    "    \"\"\"\n",
    "    BIN = 2\n",
    "    binary_num_str = \"\"\n",
    "    n, remainder = n // BIN, n % BIN\n",
    "    binary_num_str = str(remainder) + binary_num_str\n",
    "    \n",
    "    while n > 0:\n",
    "        n, remainder = n // BIN, n % BIN\n",
    "        binary_num_str = str(remainder) + binary_num_str\n",
    "    return binary_num_str\n",
    "\n"
   ]
  },
  {
   "cell_type": "code",
   "execution_count": 4,
   "metadata": {
    "scrolled": true
   },
   "outputs": [
    {
     "data": {
      "text/plain": [
       "'11'"
      ]
     },
     "execution_count": 4,
     "metadata": {},
     "output_type": "execute_result"
    }
   ],
   "source": [
    "dec2bin(3)"
   ]
  },
  {
   "cell_type": "markdown",
   "metadata": {},
   "source": [
    "## do-while 스타일"
   ]
  },
  {
   "cell_type": "code",
   "execution_count": 5,
   "metadata": {},
   "outputs": [
    {
     "data": {
      "text/plain": [
       "'1100100'"
      ]
     },
     "execution_count": 5,
     "metadata": {},
     "output_type": "execute_result"
    }
   ],
   "source": [
    "\n",
    "def dec2bin(n):\n",
    "    \"\"\" 10 진수 숫자를 2 진수 숫자 표현의 스트링으로 바꾸는 함수\n",
    "        do-while 같은 구문으로 반복문을 표현했다.\n",
    "    \"\"\"\n",
    "    BIN = 2\n",
    "    binary_num_str = \"\"\n",
    "    \n",
    "    while True:\n",
    "        n, remainder = n // BIN, n % BIN\n",
    "        binary_num_str = str(remainder) + binary_num_str\n",
    "        if n <= 0:\n",
    "            break\n",
    "    return binary_num_str\n",
    "    \n",
    "dec2bin(100)"
   ]
  },
  {
   "cell_type": "code",
   "execution_count": 11,
   "metadata": {},
   "outputs": [
    {
     "data": {
      "text/plain": [
       "'100000'"
      ]
     },
     "execution_count": 11,
     "metadata": {},
     "output_type": "execute_result"
    }
   ],
   "source": [
    "\n",
    "def dec2bin(n):\n",
    "    \"\"\" 10 진수 숫자를 2 진수 숫자 표현의 스트링으로 바꾸는 함수\n",
    "        do-while 같은 구문으로 반복문을 표현했다.\n",
    "    \"\"\"\n",
    "    BIN = 2\n",
    "    digits = []\n",
    "    \n",
    "    while True:\n",
    "        n, remainder = n // BIN, n % BIN\n",
    "        digits.append(remainder)\n",
    "        if n <= 0:\n",
    "            break\n",
    "    digits = digits[::-1]\n",
    "    digits = [str(d) for d in digits] \n",
    "    num_str = ''.join(digits)\n",
    "    return num_str\n",
    "\n",
    "dec2bin(32)"
   ]
  },
  {
   "cell_type": "markdown",
   "metadata": {
    "collapsed": true
   },
   "source": [
    "### 뉴턴법으로 제곱근 구하기"
   ]
  },
  {
   "cell_type": "code",
   "execution_count": 10,
   "metadata": {
    "collapsed": true
   },
   "outputs": [],
   "source": [
    "import math\n",
    "def my_sqrt(a):\n",
    "    \"\"\" calcuate square root of a\n",
    "    \"\"\"\n",
    "    epsilon = 1e-6\n",
    "    x = 1\n",
    "    while True:\n",
    "        x_next = (x + a/x)/2\n",
    "        if -epsilon < x_next - x < epsilon:\n",
    "            return x_next\n",
    "        else:\n",
    "            x = x_next"
   ]
  },
  {
   "cell_type": "code",
   "execution_count": 11,
   "metadata": {},
   "outputs": [
    {
     "data": {
      "text/plain": [
       "21000000000.0"
      ]
     },
     "execution_count": 11,
     "metadata": {},
     "output_type": "execute_result"
    }
   ],
   "source": [
    "2.1E10"
   ]
  },
  {
   "cell_type": "code",
   "execution_count": 12,
   "metadata": {},
   "outputs": [
    {
     "data": {
      "text/plain": [
       "1.414213562373095"
      ]
     },
     "execution_count": 12,
     "metadata": {},
     "output_type": "execute_result"
    }
   ],
   "source": [
    "my_sqrt(2)"
   ]
  },
  {
   "cell_type": "code",
   "execution_count": null,
   "metadata": {
    "collapsed": true
   },
   "outputs": [],
   "source": []
  }
 ],
 "metadata": {
  "kernelspec": {
   "display_name": "Python 3",
   "language": "python",
   "name": "python3"
  },
  "language_info": {
   "codemirror_mode": {
    "name": "ipython",
    "version": 3
   },
   "file_extension": ".py",
   "mimetype": "text/x-python",
   "name": "python",
   "nbconvert_exporter": "python",
   "pygments_lexer": "ipython3",
   "version": "3.6.1"
  }
 },
 "nbformat": 4,
 "nbformat_minor": 2
}
