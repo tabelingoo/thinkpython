{
 "cells": [
  {
   "cell_type": "markdown",
   "metadata": {},
   "source": [
    "## 16.1 time\n",
    "\n",
    "시간(Time)에 대한 클래스를 만들어보고 생각해봅니다.\n",
    "\n",
    "스태틱 메쏘드를 @staticmethod 데코레이터를 사용해서 만든예입니다.\n"
   ]
  },
  {
   "cell_type": "code",
   "execution_count": 3,
   "metadata": {
    "collapsed": true
   },
   "outputs": [],
   "source": [
    "class Time:\n",
    "    \"\"\" 시간을 표현\n",
    "    Attribute\n",
    "    ---------\n",
    "    hour, minute, second\n",
    "    \"\"\"\n",
    "    def __init__(self, hour, minute, second):\n",
    "        self.hour = hour\n",
    "        self.minute = minute\n",
    "        self.second = second\n",
    "\n",
    "    @staticmethod\n",
    "    def print_time(time):\n",
    "        print('{:02d}:{:02d}:{:02d}'.format(time.hour, time.minute, time.second))"
   ]
  },
  {
   "cell_type": "code",
   "execution_count": 14,
   "metadata": {},
   "outputs": [
    {
     "name": "stdout",
     "output_type": "stream",
     "text": [
      "03:59:08\n"
     ]
    }
   ],
   "source": [
    "now = Time(3, 59, 8)\n",
    "Time.print_time(now)"
   ]
  },
  {
   "cell_type": "markdown",
   "metadata": {},
   "source": [
    "time 인스턴스를 두 개를 합치는 함수를 만들어보자"
   ]
  },
  {
   "cell_type": "code",
   "execution_count": 15,
   "metadata": {
    "collapsed": true
   },
   "outputs": [],
   "source": [
    "def add_time(t1, t2):\n",
    "    time = Time(0,0,0)\n",
    "    time.hour = t1.hour + t2.hour\n",
    "    time.minute = t1.minute + t2.minute\n",
    "    time.second = t1.second + t2.second\n",
    "    \n",
    "    return time"
   ]
  },
  {
   "cell_type": "code",
   "execution_count": 19,
   "metadata": {},
   "outputs": [
    {
     "name": "stdout",
     "output_type": "stream",
     "text": [
      "03:70:10\n"
     ]
    }
   ],
   "source": [
    "t1 = Time(1,20,0)\n",
    "t2 = Time(2,50,10)\n",
    "\n",
    "total_time = add_time(t1, t2)\n",
    "Time.print_time(total_time)"
   ]
  },
  {
   "cell_type": "markdown",
   "metadata": {},
   "source": [
    "동작은 하지만 단순히 각 숫자(시,분,초)를 더하다보니 범위 밖의 숫자를 포함하는 시간을 얻었다.  어떻게하면 이 문제를 해결할 수 있을까?"
   ]
  },
  {
   "cell_type": "code",
   "execution_count": 22,
   "metadata": {
    "collapsed": true
   },
   "outputs": [],
   "source": [
    "def adjust_time(t):\n",
    "    if t.second >= 60:\n",
    "        t.second -= 60\n",
    "        t.minute += 1\n",
    "\n",
    "    if t.minute >= 60:\n",
    "        t.minute -= 60\n",
    "        t.hour += 1    "
   ]
  },
  {
   "cell_type": "code",
   "execution_count": 23,
   "metadata": {},
   "outputs": [
    {
     "name": "stdout",
     "output_type": "stream",
     "text": [
      "04:10:10\n"
     ]
    }
   ],
   "source": [
    "adjust_time(total_time)\n",
    "Time.print_time(total_time)"
   ]
  },
  {
   "cell_type": "markdown",
   "metadata": {},
   "source": [
    "### 위의 과정에서 개선해볼 수 있는 것\n",
    "- Time.print_time 함수 대신 \\\\__repre__ 매직함수 사용\n",
    "- 분 또는 초가 120을 초과하는 경우의 대응\n",
    "- adjust_time 함수에서 리턴값을 사용하는 것이 더 좋은 것인가? 그렇다면 어떻게 해야하는가?\n"
   ]
  },
  {
   "cell_type": "markdown",
   "metadata": {},
   "source": [
    "## 16.3 modifier  변경자\n",
    "\n",
    "위의 예에서 adjust_time 함수는 인자로 가져온 객체를 수정한다. 이런 방식으로 동작하는 함수를 변경자라고 한다.\n",
    "\n",
    "함수형 프로그래밍 스타일에서는 변경자를 되도록 사용하지 않는다.\n",
    "\n",
    "왜??"
   ]
  },
  {
   "cell_type": "markdown",
   "metadata": {},
   "source": [
    "혹시.... 시간이 초 단위로만 주어졌을 경우 (예  12345678 초) 이를 시,분,초로 바꾸는 함수를 만들 수 있는가?"
   ]
  },
  {
   "cell_type": "code",
   "execution_count": null,
   "metadata": {
    "collapsed": true
   },
   "outputs": [],
   "source": []
  }
 ],
 "metadata": {
  "kernelspec": {
   "display_name": "Python 3",
   "language": "python",
   "name": "python3"
  },
  "language_info": {
   "codemirror_mode": {
    "name": "ipython",
    "version": 3
   },
   "file_extension": ".py",
   "mimetype": "text/x-python",
   "name": "python",
   "nbconvert_exporter": "python",
   "pygments_lexer": "ipython3",
   "version": "3.6.1"
  }
 },
 "nbformat": 4,
 "nbformat_minor": 2
}
