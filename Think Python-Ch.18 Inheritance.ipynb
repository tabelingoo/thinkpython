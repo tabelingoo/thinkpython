{
 "cells": [
  {
   "cell_type": "markdown",
   "metadata": {},
   "source": [
    "## 상속이란...\n",
    "\n",
    "먼저 클래스란...   자료구조와 그 자료구조에 대한 연산/기능을 정의해 놓은 설계도\n",
    "\n",
    "클래스라는 설계도로 만든 구체적인(메모리 주소를 같는) 결과물을 인스턴스라고 합니다.\n",
    "\n",
    "설계도도 더 추상적인(구체적이지 않은) 아이디어로 스케치해 놓은 상위 설계도를 보고 만드는 경우가 있는데\n",
    "\n",
    "이 것을 상속이라고 합니다.\n",
    "\n",
    "곰돌이 인형을 만드는데 머리하나 팔 두 개 다리 두 개만 흰천으로 감싸진 봉제인형(상위 설계도)에 곰돌이 얼굴과 팔 다리를 만들고(상위 설계도를 상속받은 하위 설계도) 곰돌이에 상표를 붙이고 이름을 붙이고 눈 색깔을 정하고 입 모양을 정하면 곰돌이 인스턴스가 만들어집니다."
   ]
  },
  {
   "cell_type": "markdown",
   "metadata": {},
   "source": [
    "## 18.1 카드 객체\n",
    "-  52 장의 카드\n",
    "- 모양과 랭크가 있다.  \n",
    "- 문양 : Spade, Hart, Diamond, Club\n",
    "- 랭크 : Ace, 2, 3, 4, 5, 6, 7, 8, 9, 10, J, Q, K\n",
    "\n",
    "가능한 문양과 랭크의 조합은 52가지 입니다.  이 모든 종류에 대한 카드를 만들 수 있는 카드 클래스를 정의해보겠습니다."
   ]
  },
  {
   "cell_type": "code",
   "execution_count": 10,
   "metadata": {
    "collapsed": true
   },
   "outputs": [],
   "source": [
    "class Card:\n",
    "    \"\"\" Represents a standard playing card. \"\"\"\n",
    "    suit_names = ['Clubs', 'Diamonds', 'Hearts', 'Spades']\n",
    "    rank_names = [None, 'Ace', '2', '3', '4', '5', '6', '7',\n",
    "                 '8','9','10','Jack','Queen','King']\n",
    "    def __init__(self, suit=None, rank=None):\n",
    "        self._suit = suit\n",
    "        self._rank = rank\n",
    "        \n",
    "    def __str__(self):\n",
    "        return '{} {}'.format(Card.suit_names[self._suit],\n",
    "                              Card.rank_names[self._rank])"
   ]
  },
  {
   "cell_type": "code",
   "execution_count": 11,
   "metadata": {
    "collapsed": true
   },
   "outputs": [],
   "source": [
    "\n",
    "ace = Card(3,1)"
   ]
  },
  {
   "cell_type": "code",
   "execution_count": 12,
   "metadata": {
    "scrolled": true
   },
   "outputs": [
    {
     "data": {
      "text/plain": [
       "'Spades Ace'"
      ]
     },
     "execution_count": 12,
     "metadata": {},
     "output_type": "execute_result"
    }
   ],
   "source": [
    "str(ace)"
   ]
  },
  {
   "cell_type": "code",
   "execution_count": 20,
   "metadata": {
    "collapsed": true
   },
   "outputs": [],
   "source": [
    "import random\n",
    "\n",
    "class Deck(list):\n",
    "    def __init__(self):\n",
    "        for suit in [0,1,2,3]:\n",
    "            for rank in [1,2,3,4,5,6,7,8,9,10,11,12,13]:\n",
    "                card = Card(suit, rank)\n",
    "                self.add_card(card)\n",
    "                \n",
    "    def add_card(self, card):\n",
    "        self.append(card)\n",
    "        \n",
    "    def shuffle(self):\n",
    "        random.shuffle(self)\n",
    "        \n",
    "    def __str__(self):\n",
    "        res = list()\n",
    "        for card in self:\n",
    "            res.append(str(card))\n",
    "        return '\\n'.join(res)\n"
   ]
  },
  {
   "cell_type": "code",
   "execution_count": 18,
   "metadata": {},
   "outputs": [],
   "source": [
    "deck = Deck()"
   ]
  },
  {
   "cell_type": "code",
   "execution_count": 19,
   "metadata": {},
   "outputs": [
    {
     "name": "stdout",
     "output_type": "stream",
     "text": [
      "Clubs Ace\n",
      "Clubs 2\n",
      "Clubs 3\n",
      "Clubs 4\n",
      "Clubs 5\n",
      "Clubs 6\n",
      "Clubs 7\n",
      "Clubs 8\n",
      "Clubs 9\n",
      "Clubs 10\n",
      "Clubs Jack\n",
      "Clubs Queen\n",
      "Clubs King\n",
      "Diamonds Ace\n",
      "Diamonds 2\n",
      "Diamonds 3\n",
      "Diamonds 4\n",
      "Diamonds 5\n",
      "Diamonds 6\n",
      "Diamonds 7\n",
      "Diamonds 8\n",
      "Diamonds 9\n",
      "Diamonds 10\n",
      "Diamonds Jack\n",
      "Diamonds Queen\n",
      "Diamonds King\n",
      "Hearts Ace\n",
      "Hearts 2\n",
      "Hearts 3\n",
      "Hearts 4\n",
      "Hearts 5\n",
      "Hearts 6\n",
      "Hearts 7\n",
      "Hearts 8\n",
      "Hearts 9\n",
      "Hearts 10\n",
      "Hearts Jack\n",
      "Hearts Queen\n",
      "Hearts King\n",
      "Spades Ace\n",
      "Spades 2\n",
      "Spades 3\n",
      "Spades 4\n",
      "Spades 5\n",
      "Spades 6\n",
      "Spades 7\n",
      "Spades 8\n",
      "Spades 9\n",
      "Spades 10\n",
      "Spades Jack\n",
      "Spades Queen\n",
      "Spades King\n"
     ]
    }
   ],
   "source": [
    "print(deck)"
   ]
  },
  {
   "cell_type": "markdown",
   "metadata": {},
   "source": [
    "## 18.3 카드 비교하기"
   ]
  },
  {
   "cell_type": "code",
   "execution_count": null,
   "metadata": {
    "collapsed": true
   },
   "outputs": [],
   "source": [
    "class Card:\n",
    "    \"\"\" Represents a standard playing card. \"\"\"\n",
    "    suit_names = ['Clubs', 'Diamonds', 'Hearts', 'Spades']\n",
    "    rank_names = [None, 'Ace', '2', '3', '4', '5', '6', '7',\n",
    "                 '8','9','10','Jack','Queen','King']\n",
    "    def __init__(self, suit=None, rank=None):\n",
    "        self._suit = suit\n",
    "        self._rank = rank\n",
    "        \n",
    "    def __str__(self):\n",
    "        return '{} {}'.format(Card.suit_names[self._suit],\n",
    "                              Card.rank_names[self._rank])\n",
    "    \n",
    "    def __lt__(self, other):\n",
    "        if self._suit < other._suit:\n",
    "            return True\n",
    "        if self._rank < other._rank:\n",
    "            return True\n",
    "        return False"
   ]
  }
 ],
 "metadata": {
  "kernelspec": {
   "display_name": "Python 3",
   "language": "python",
   "name": "python3"
  },
  "language_info": {
   "codemirror_mode": {
    "name": "ipython",
    "version": 3
   },
   "file_extension": ".py",
   "mimetype": "text/x-python",
   "name": "python",
   "nbconvert_exporter": "python",
   "pygments_lexer": "ipython3",
   "version": "3.6.1"
  }
 },
 "nbformat": 4,
 "nbformat_minor": 2
}
